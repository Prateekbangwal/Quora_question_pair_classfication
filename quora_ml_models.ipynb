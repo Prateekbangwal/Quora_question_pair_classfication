{
 "cells": [
  {
   "cell_type": "code",
   "execution_count": 1,
   "id": "569791b7-b6ee-4072-a7a5-0864958a242c",
   "metadata": {},
   "outputs": [],
   "source": [
    "import pandas as pd\n",
    "import numpy as np\n",
    "import matplotlib.pyplot as plt\n",
    "import seaborn as sns\n",
    "from sklearn.model_selection import train_test_split\n",
    "from sklearn.linear_model import SGDClassifier\n",
    "from sklearn.calibration import CalibratedClassifierCV"
   ]
  },
  {
   "cell_type": "code",
   "execution_count": 2,
   "id": "bed4b3f1-26a9-40d1-961d-535ffeaef6c4",
   "metadata": {},
   "outputs": [
    {
     "data": {
      "text/html": [
       "<div>\n",
       "<style scoped>\n",
       "    .dataframe tbody tr th:only-of-type {\n",
       "        vertical-align: middle;\n",
       "    }\n",
       "\n",
       "    .dataframe tbody tr th {\n",
       "        vertical-align: top;\n",
       "    }\n",
       "\n",
       "    .dataframe thead th {\n",
       "        text-align: right;\n",
       "    }\n",
       "</style>\n",
       "<table border=\"1\" class=\"dataframe\">\n",
       "  <thead>\n",
       "    <tr style=\"text-align: right;\">\n",
       "      <th></th>\n",
       "      <th>Unnamed: 0</th>\n",
       "      <th>id</th>\n",
       "      <th>is_duplicate</th>\n",
       "      <th>freq_qid1_x</th>\n",
       "      <th>freq_qid2_x</th>\n",
       "      <th>q1len_x</th>\n",
       "      <th>q2len_x</th>\n",
       "      <th>q1_n_words_x</th>\n",
       "      <th>q2_n_words_x</th>\n",
       "      <th>word_common_x</th>\n",
       "      <th>...</th>\n",
       "      <th>86_y</th>\n",
       "      <th>87_y</th>\n",
       "      <th>88_y</th>\n",
       "      <th>89_y</th>\n",
       "      <th>90_y</th>\n",
       "      <th>91_y</th>\n",
       "      <th>92_y</th>\n",
       "      <th>93_y</th>\n",
       "      <th>94_y</th>\n",
       "      <th>95_y</th>\n",
       "    </tr>\n",
       "  </thead>\n",
       "  <tbody>\n",
       "    <tr>\n",
       "      <th>0</th>\n",
       "      <td>0</td>\n",
       "      <td>0</td>\n",
       "      <td>0</td>\n",
       "      <td>1</td>\n",
       "      <td>1</td>\n",
       "      <td>66</td>\n",
       "      <td>57</td>\n",
       "      <td>14</td>\n",
       "      <td>12</td>\n",
       "      <td>10.0</td>\n",
       "      <td>...</td>\n",
       "      <td>23.793557</td>\n",
       "      <td>-20.588540</td>\n",
       "      <td>-25.390740</td>\n",
       "      <td>12.380504</td>\n",
       "      <td>-19.671304</td>\n",
       "      <td>16.618827</td>\n",
       "      <td>30.438993</td>\n",
       "      <td>43.384334</td>\n",
       "      <td>5.521897</td>\n",
       "      <td>2.243534</td>\n",
       "    </tr>\n",
       "    <tr>\n",
       "      <th>1</th>\n",
       "      <td>1</td>\n",
       "      <td>1</td>\n",
       "      <td>0</td>\n",
       "      <td>4</td>\n",
       "      <td>1</td>\n",
       "      <td>51</td>\n",
       "      <td>88</td>\n",
       "      <td>8</td>\n",
       "      <td>13</td>\n",
       "      <td>4.0</td>\n",
       "      <td>...</td>\n",
       "      <td>68.032543</td>\n",
       "      <td>1.352745</td>\n",
       "      <td>-25.395088</td>\n",
       "      <td>-7.580477</td>\n",
       "      <td>-23.430211</td>\n",
       "      <td>3.710812</td>\n",
       "      <td>1.435861</td>\n",
       "      <td>44.218956</td>\n",
       "      <td>11.410591</td>\n",
       "      <td>22.943367</td>\n",
       "    </tr>\n",
       "  </tbody>\n",
       "</table>\n",
       "<p>2 rows × 232 columns</p>\n",
       "</div>"
      ],
      "text/plain": [
       "   Unnamed: 0  id  is_duplicate  freq_qid1_x  freq_qid2_x  q1len_x  q2len_x  \\\n",
       "0           0   0             0            1            1       66       57   \n",
       "1           1   1             0            4            1       51       88   \n",
       "\n",
       "   q1_n_words_x  q2_n_words_x  word_common_x  ...       86_y       87_y  \\\n",
       "0            14            12           10.0  ...  23.793557 -20.588540   \n",
       "1             8            13            4.0  ...  68.032543   1.352745   \n",
       "\n",
       "        88_y       89_y       90_y       91_y       92_y       93_y  \\\n",
       "0 -25.390740  12.380504 -19.671304  16.618827  30.438993  43.384334   \n",
       "1 -25.395088  -7.580477 -23.430211   3.710812   1.435861  44.218956   \n",
       "\n",
       "        94_y       95_y  \n",
       "0   5.521897   2.243534  \n",
       "1  11.410591  22.943367  \n",
       "\n",
       "[2 rows x 232 columns]"
      ]
     },
     "execution_count": 2,
     "metadata": {},
     "output_type": "execute_result"
    }
   ],
   "source": [
    "data = pd.read_csv('final_features.csv')\n",
    "data.head(2)"
   ]
  },
  {
   "cell_type": "code",
   "execution_count": 3,
   "id": "01eb811e-550c-44f7-952a-a2707acfa545",
   "metadata": {},
   "outputs": [],
   "source": [
    "y_true = data['is_duplicate']\n",
    "data.drop(['Unnamed: 0', 'id', 'is_duplicate'],axis = 1, inplace=True)"
   ]
  },
  {
   "cell_type": "code",
   "execution_count": 4,
   "id": "fad86b1d-d484-4330-ae35-8fcab5e6ad68",
   "metadata": {},
   "outputs": [
    {
     "data": {
      "text/html": [
       "<div>\n",
       "<style scoped>\n",
       "    .dataframe tbody tr th:only-of-type {\n",
       "        vertical-align: middle;\n",
       "    }\n",
       "\n",
       "    .dataframe tbody tr th {\n",
       "        vertical-align: top;\n",
       "    }\n",
       "\n",
       "    .dataframe thead th {\n",
       "        text-align: right;\n",
       "    }\n",
       "</style>\n",
       "<table border=\"1\" class=\"dataframe\">\n",
       "  <thead>\n",
       "    <tr style=\"text-align: right;\">\n",
       "      <th></th>\n",
       "      <th>freq_qid1_x</th>\n",
       "      <th>freq_qid2_x</th>\n",
       "      <th>q1len_x</th>\n",
       "      <th>q2len_x</th>\n",
       "      <th>q1_n_words_x</th>\n",
       "      <th>q2_n_words_x</th>\n",
       "      <th>word_common_x</th>\n",
       "      <th>word_total_x</th>\n",
       "      <th>word_share_x</th>\n",
       "      <th>freq_q1+freq_q2_x</th>\n",
       "      <th>...</th>\n",
       "      <th>86_y</th>\n",
       "      <th>87_y</th>\n",
       "      <th>88_y</th>\n",
       "      <th>89_y</th>\n",
       "      <th>90_y</th>\n",
       "      <th>91_y</th>\n",
       "      <th>92_y</th>\n",
       "      <th>93_y</th>\n",
       "      <th>94_y</th>\n",
       "      <th>95_y</th>\n",
       "    </tr>\n",
       "  </thead>\n",
       "  <tbody>\n",
       "    <tr>\n",
       "      <th>0</th>\n",
       "      <td>1</td>\n",
       "      <td>1</td>\n",
       "      <td>66</td>\n",
       "      <td>57</td>\n",
       "      <td>14</td>\n",
       "      <td>12</td>\n",
       "      <td>10.0</td>\n",
       "      <td>23.0</td>\n",
       "      <td>0.434783</td>\n",
       "      <td>2</td>\n",
       "      <td>...</td>\n",
       "      <td>23.793557</td>\n",
       "      <td>-20.588540</td>\n",
       "      <td>-25.390740</td>\n",
       "      <td>12.380504</td>\n",
       "      <td>-19.671304</td>\n",
       "      <td>16.618827</td>\n",
       "      <td>30.438993</td>\n",
       "      <td>43.384334</td>\n",
       "      <td>5.521897</td>\n",
       "      <td>2.243534</td>\n",
       "    </tr>\n",
       "    <tr>\n",
       "      <th>1</th>\n",
       "      <td>4</td>\n",
       "      <td>1</td>\n",
       "      <td>51</td>\n",
       "      <td>88</td>\n",
       "      <td>8</td>\n",
       "      <td>13</td>\n",
       "      <td>4.0</td>\n",
       "      <td>20.0</td>\n",
       "      <td>0.200000</td>\n",
       "      <td>5</td>\n",
       "      <td>...</td>\n",
       "      <td>68.032543</td>\n",
       "      <td>1.352745</td>\n",
       "      <td>-25.395088</td>\n",
       "      <td>-7.580477</td>\n",
       "      <td>-23.430211</td>\n",
       "      <td>3.710812</td>\n",
       "      <td>1.435861</td>\n",
       "      <td>44.218956</td>\n",
       "      <td>11.410591</td>\n",
       "      <td>22.943367</td>\n",
       "    </tr>\n",
       "  </tbody>\n",
       "</table>\n",
       "<p>2 rows × 229 columns</p>\n",
       "</div>"
      ],
      "text/plain": [
       "   freq_qid1_x  freq_qid2_x  q1len_x  q2len_x  q1_n_words_x  q2_n_words_x  \\\n",
       "0            1            1       66       57            14            12   \n",
       "1            4            1       51       88             8            13   \n",
       "\n",
       "   word_common_x  word_total_x  word_share_x  freq_q1+freq_q2_x  ...  \\\n",
       "0           10.0          23.0      0.434783                  2  ...   \n",
       "1            4.0          20.0      0.200000                  5  ...   \n",
       "\n",
       "        86_y       87_y       88_y       89_y       90_y       91_y  \\\n",
       "0  23.793557 -20.588540 -25.390740  12.380504 -19.671304  16.618827   \n",
       "1  68.032543   1.352745 -25.395088  -7.580477 -23.430211   3.710812   \n",
       "\n",
       "        92_y       93_y       94_y       95_y  \n",
       "0  30.438993  43.384334   5.521897   2.243534  \n",
       "1   1.435861  44.218956  11.410591  22.943367  \n",
       "\n",
       "[2 rows x 229 columns]"
      ]
     },
     "execution_count": 4,
     "metadata": {},
     "output_type": "execute_result"
    }
   ],
   "source": [
    "data.head(2)"
   ]
  },
  {
   "cell_type": "code",
   "execution_count": 5,
   "id": "f9df8f05-77d5-48de-9a9d-046fa54948a7",
   "metadata": {},
   "outputs": [
    {
     "name": "stdout",
     "output_type": "stream",
     "text": [
      "<class 'pandas.core.frame.DataFrame'>\n",
      "RangeIndex: 404290 entries, 0 to 404289\n",
      "Columns: 229 entries, freq_qid1_x to 95_y\n",
      "dtypes: float64(209), int64(20)\n",
      "memory usage: 706.3 MB\n"
     ]
    }
   ],
   "source": [
    "data.info()"
   ]
  },
  {
   "cell_type": "markdown",
   "id": "8cfebfd4-f8fb-4e70-bbb1-11bb51baee33",
   "metadata": {},
   "source": [
    "<h2> Random train test split 70:30"
   ]
  },
  {
   "cell_type": "code",
   "execution_count": 6,
   "id": "5f55e52e-694c-48bf-a74c-8278e07576fe",
   "metadata": {},
   "outputs": [],
   "source": [
    "X_train, X_test, y_train, y_test = train_test_split(data, y_true, stratify= y_true, test_size = 0.3)"
   ]
  },
  {
   "cell_type": "code",
   "execution_count": 7,
   "id": "25c88ba8-2b67-4a21-9532-f11ddc349d56",
   "metadata": {},
   "outputs": [
    {
     "name": "stdout",
     "output_type": "stream",
     "text": [
      "Number of data points in train data: (283003, 229)\n",
      "Number of data points in test data: (121287, 229)\n"
     ]
    }
   ],
   "source": [
    "print(\"Number of data points in train data:\", X_train.shape)\n",
    "print(\"Number of data points in test data:\", X_test.shape)"
   ]
  },
  {
   "cell_type": "code",
   "execution_count": 8,
   "id": "2281206d-2de1-4152-8d4e-11857a3bc581",
   "metadata": {},
   "outputs": [
    {
     "name": "stdout",
     "output_type": "stream",
     "text": [
      "---------- Distribution of output variable in train data ----------\n",
      "Class 0: 0.6308025003268517 class 1: 0.36919749967314835\n",
      "---------- Distribution of output variable in test data ----------\n",
      "Class 0: 0.6308013224830361 class 1: 0.3691986775169639\n"
     ]
    }
   ],
   "source": [
    "from collections import Counter\n",
    "print(\"-\"*10, \"Distribution of output variable in train data\", \"-\"*10)\n",
    "train_dist = Counter(y_train)\n",
    "train_len = len(y_train)\n",
    "print(\"Class 0:\", int(train_dist[0])/train_len, \"class 1:\", int(train_dist[1])/train_len)\n",
    "print(\"-\"*10 ,\"Distribution of output variable in test data\", \"-\"*10)\n",
    "test_dist = Counter(y_test)\n",
    "test_len = len(y_test)\n",
    "print(\"Class 0:\", int(test_dist[0])/test_len, \"class 1:\", int(test_dist[1])/test_len)"
   ]
  },
  {
   "cell_type": "code",
   "execution_count": 9,
   "id": "b4cfd6a4-541a-4360-95cf-9df7df5dccf8",
   "metadata": {},
   "outputs": [],
   "source": [
    "from sklearn.metrics import confusion_matrix\n",
    "# This function plots the confusion matrices given y_i, y_i_hat.\n",
    "def plot_confusion_matrix(test_y, predict_y):\n",
    "    C = confusion_matrix(test_y, predict_y)\n",
    "    # C = 9,9 matrix, each cell (i,j) represents number of points of class i are predicted class j\n",
    "    \n",
    "    A =(((C.T)/(C.sum(axis=1))).T)\n",
    "    #divid each element of the confusion matrix with the sum of elements in that column\n",
    "    \n",
    "    # C = [[1, 2],\n",
    "    #     [3, 4]]\n",
    "    # C.T = [[1, 3],\n",
    "    #        [2, 4]]\n",
    "    # C.sum(axis = 1)  axis=0 corresonds to columns and axis=1 corresponds to rows in two diamensional array\n",
    "    # C.sum(axix =1) = [[3, 7]]\n",
    "    # ((C.T)/(C.sum(axis=1))) = [[1/3, 3/7]\n",
    "    #                           [2/3, 4/7]]\n",
    "\n",
    "    # ((C.T)/(C.sum(axis=1))).T = [[1/3, 2/3]\n",
    "    #                           [3/7, 4/7]]\n",
    "    # sum of row elements = 1\n",
    "    \n",
    "    B =(C/C.sum(axis=0))\n",
    "    #divid each element of the confusion matrix with the sum of elements in that row\n",
    "    # C = [[1, 2],\n",
    "    #     [3, 4]]\n",
    "    # C.sum(axis = 0)  axis=0 corresonds to columns and axis=1 corresponds to rows in two diamensional array\n",
    "    # C.sum(axix =0) = [[4, 6]]\n",
    "    # (C/C.sum(axis=0)) = [[1/4, 2/6],\n",
    "    #                      [3/4, 4/6]] \n",
    "    plt.figure(figsize=(20,4))\n",
    "    \n",
    "    labels = [1,2]\n",
    "    # representing A in heatmap format\n",
    "    cmap=sns.light_palette(\"blue\")\n",
    "    plt.subplot(1, 3, 1)\n",
    "    sns.heatmap(C, annot=True, cmap=cmap, fmt=\".3f\", xticklabels=labels, yticklabels=labels)\n",
    "    plt.xlabel('Predicted Class')\n",
    "    plt.ylabel('Original Class')\n",
    "    plt.title(\"Confusion matrix\")\n",
    "    \n",
    "    plt.subplot(1, 3, 2)\n",
    "    sns.heatmap(B, annot=True, cmap=cmap, fmt=\".3f\", xticklabels=labels, yticklabels=labels)\n",
    "    plt.xlabel('Predicted Class')\n",
    "    plt.ylabel('Original Class')\n",
    "    plt.title(\"Precision matrix\")\n",
    "    \n",
    "    plt.subplot(1, 3, 3)\n",
    "    # representing B in heatmap format\n",
    "    sns.heatmap(A, annot=True, cmap=cmap, fmt=\".3f\", xticklabels=labels, yticklabels=labels)\n",
    "    plt.xlabel('Predicted Class')\n",
    "    plt.ylabel('Original Class')\n",
    "    plt.title(\"Recall matrix\")\n",
    "    \n",
    "    plt.show()"
   ]
  },
  {
   "cell_type": "markdown",
   "id": "7de7db61-06eb-45c5-a1f1-beb8e1af1bf6",
   "metadata": {},
   "source": [
    "<h1>Building Random Model finding worst case log-loss"
   ]
  },
  {
   "cell_type": "code",
   "execution_count": 10,
   "id": "cdce7298-4a4e-457e-8bad-c964cd1b65b9",
   "metadata": {},
   "outputs": [],
   "source": [
    "from sklearn.metrics import accuracy_score, log_loss"
   ]
  },
  {
   "cell_type": "code",
   "execution_count": 11,
   "id": "259afe47-f096-45d6-b218-e714c56cedcd",
   "metadata": {},
   "outputs": [
    {
     "name": "stdout",
     "output_type": "stream",
     "text": [
      "Log loss of test data using random model 0.8873186899601229\n"
     ]
    },
    {
     "data": {
      "image/png": "[encoded data removed]",
      "text/plain": [
       "<Figure size 1440x288 with 6 Axes>"
      ]
     },
     "metadata": {
      "needs_background": "light"
     },
     "output_type": "display_data"
    }
   ],
   "source": [
    "predicted_y = np.zeros((test_len,2))\n",
    "for i in range(test_len):\n",
    "    rand_probs = np.random.rand(1,2)\n",
    "    predicted_y[i] = ((rand_probs/sum(sum(rand_probs)))[0])\n",
    "print('Log loss of test data using random model', log_loss(y_test, predicted_y, eps = 1e-15))\n",
    "\n",
    "predicted_y = np.argmax(predicted_y, axis = 1)\n",
    "plot_confusion_matrix(y_test, predicted_y)"
   ]
  },
  {
   "cell_type": "markdown",
   "id": "471a48e1-cb2b-43dd-9e37-3d4dce6f4a7b",
   "metadata": {},
   "source": [
    "<h1> Logistic Regression with hyperparameter tuning"
   ]
  },
  {
   "cell_type": "code",
   "execution_count": 36,
   "id": "4846e89b-03d3-4b93-a837-5f5a8971ed61",
   "metadata": {},
   "outputs": [
    {
     "name": "stderr",
     "output_type": "stream",
     "text": [
      "/Users/prateekbangwal/opt/anaconda3/lib/python3.8/site-packages/sklearn/linear_model/_stochastic_gradient.py:574: ConvergenceWarning: Maximum number of iteration reached before convergence. Consider increasing max_iter to improve the fit.\n",
      "  warnings.warn(\"Maximum number of iteration reached before \"\n",
      "/Users/prateekbangwal/opt/anaconda3/lib/python3.8/site-packages/sklearn/linear_model/_stochastic_gradient.py:574: ConvergenceWarning: Maximum number of iteration reached before convergence. Consider increasing max_iter to improve the fit.\n",
      "  warnings.warn(\"Maximum number of iteration reached before \"\n",
      "/Users/prateekbangwal/opt/anaconda3/lib/python3.8/site-packages/sklearn/linear_model/_stochastic_gradient.py:574: ConvergenceWarning: Maximum number of iteration reached before convergence. Consider increasing max_iter to improve the fit.\n",
      "  warnings.warn(\"Maximum number of iteration reached before \"\n",
      "/Users/prateekbangwal/opt/anaconda3/lib/python3.8/site-packages/sklearn/linear_model/_stochastic_gradient.py:574: ConvergenceWarning: Maximum number of iteration reached before convergence. Consider increasing max_iter to improve the fit.\n",
      "  warnings.warn(\"Maximum number of iteration reached before \"\n"
     ]
    },
    {
     "name": "stdout",
     "output_type": "stream",
     "text": [
      "For alpha =  1e-05 The log loss is 0.4791362170907223\n"
     ]
    },
    {
     "name": "stderr",
     "output_type": "stream",
     "text": [
      "/Users/prateekbangwal/opt/anaconda3/lib/python3.8/site-packages/sklearn/linear_model/_stochastic_gradient.py:574: ConvergenceWarning: Maximum number of iteration reached before convergence. Consider increasing max_iter to improve the fit.\n",
      "  warnings.warn(\"Maximum number of iteration reached before \"\n",
      "/Users/prateekbangwal/opt/anaconda3/lib/python3.8/site-packages/sklearn/linear_model/_stochastic_gradient.py:574: ConvergenceWarning: Maximum number of iteration reached before convergence. Consider increasing max_iter to improve the fit.\n",
      "  warnings.warn(\"Maximum number of iteration reached before \"\n",
      "/Users/prateekbangwal/opt/anaconda3/lib/python3.8/site-packages/sklearn/linear_model/_stochastic_gradient.py:574: ConvergenceWarning: Maximum number of iteration reached before convergence. Consider increasing max_iter to improve the fit.\n",
      "  warnings.warn(\"Maximum number of iteration reached before \"\n",
      "/Users/prateekbangwal/opt/anaconda3/lib/python3.8/site-packages/sklearn/linear_model/_stochastic_gradient.py:574: ConvergenceWarning: Maximum number of iteration reached before convergence. Consider increasing max_iter to improve the fit.\n",
      "  warnings.warn(\"Maximum number of iteration reached before \"\n",
      "/Users/prateekbangwal/opt/anaconda3/lib/python3.8/site-packages/sklearn/linear_model/_stochastic_gradient.py:574: ConvergenceWarning: Maximum number of iteration reached before convergence. Consider increasing max_iter to improve the fit.\n",
      "  warnings.warn(\"Maximum number of iteration reached before \"\n"
     ]
    },
    {
     "name": "stdout",
     "output_type": "stream",
     "text": [
      "For alpha =  0.0001 The log loss is 0.4901302149438344\n",
      "For alpha =  0.001 The log loss is 0.4910368426436856\n",
      "For alpha =  0.01 The log loss is 0.45880256217160603\n",
      "For alpha =  0.1 The log loss is 0.46507010155138806\n",
      "For alpha =  1 The log loss is 0.4814333452205726\n",
      "For alpha =  10 The log loss is 0.5093205682641501\n"
     ]
    },
    {
     "data": {
      "image/png": "[encoded data removed]",
      "text/plain": [
       "<Figure size 432x288 with 1 Axes>"
      ]
     },
     "metadata": {
      "needs_background": "light"
     },
     "output_type": "display_data"
    }
   ],
   "source": [
    "\n",
    "# read more about SGDClassifier() at http://scikit-learn.org/stable/modules/generated/sklearn.linear_model.SGDClassifier.html\n",
    "# ------------------------------\n",
    "# default parameters\n",
    "# SGDClassifier(loss=’hinge’, penalty=’l2’, alpha=0.0001, l1_ratio=0.15, fit_intercept=True, max_iter=None, tol=None, \n",
    "# shuffle=True, verbose=0, epsilon=0.1, n_jobs=1, random_state=None, learning_rate=’optimal’, eta0=0.0, power_t=0.5, \n",
    "# class_weight=None, warm_start=False, average=False, n_iter=None)\n",
    "\n",
    "# some of methods\n",
    "# fit(X, y[, coef_init, intercept_init, …])\tFit linear model with Stochastic Gradient Descent.\n",
    "# predict(X)\tPredict class labels for samples in X.\n",
    "alpha = [10 ** x for x in range(-5, 2)]\n",
    "log_error_array = []\n",
    "for i in alpha:\n",
    "    clf = SGDClassifier(alpha=i,penalty='l2', loss='log', random_state=42)\n",
    "    clf.fit(X_train, y_train)\n",
    "    sig_clf = CalibratedClassifierCV(clf, method = 'sigmoid')\n",
    "    sig_clf.fit(X_train, y_train)\n",
    "    predict_y = sig_clf.predict_proba(X_test)\n",
    "    log_error_array.append(log_loss(y_test, predict_y, labels = clf.classes_, eps=1e-15))\n",
    "    print(\"For alpha = \", i, \"The log loss is\", log_loss(y_test, predict_y, labels=clf.classes_, eps = 1e-15))\n",
    "\n",
    "    \n",
    "fig, ax = plt.subplots()\n",
    "ax.plot(alpha, log_error_array, c ='g')\n",
    "for i,txt in enumerate(np.round(log_error_array,3)):\n",
    "    ax.annotate((alpha[i], np.round(txt,3)), (alpha[i], log_error_array[i]))\n",
    "    \n",
    "plt.grid()\n",
    "plt.title('Cross Validation error for each alpha')\n",
    "plt.xlabel(\"ALpha i's\")\n",
    "plt.ylabel('Error Measure')\n",
    "plt.show()"
   ]
  },
  {
   "cell_type": "markdown",
   "id": "510096b7-c5d3-48b4-a8b8-548fd33c3d57",
   "metadata": {},
   "source": [
    "<h2> Linear SVM"
   ]
  },
  {
   "cell_type": "code",
   "execution_count": 18,
   "id": "98fec185-8784-43f9-8fc9-e32e36242701",
   "metadata": {},
   "outputs": [
    {
     "name": "stdout",
     "output_type": "stream",
     "text": [
      "For values of alpha =  1e-05 The log loss is: 0.4704210736850604\n",
      "For values of alpha =  0.0001 The log loss is: 0.4765546762350987\n",
      "For values of alpha =  0.001 The log loss is: 0.47802323758288723\n"
     ]
    },
    {
     "name": "stderr",
     "output_type": "stream",
     "text": [
      "/Users/prateekbangwal/opt/anaconda3/lib/python3.8/site-packages/sklearn/linear_model/_stochastic_gradient.py:574: ConvergenceWarning: Maximum number of iteration reached before convergence. Consider increasing max_iter to improve the fit.\n",
      "  warnings.warn(\"Maximum number of iteration reached before \"\n",
      "/Users/prateekbangwal/opt/anaconda3/lib/python3.8/site-packages/sklearn/linear_model/_stochastic_gradient.py:574: ConvergenceWarning: Maximum number of iteration reached before convergence. Consider increasing max_iter to improve the fit.\n",
      "  warnings.warn(\"Maximum number of iteration reached before \"\n",
      "/Users/prateekbangwal/opt/anaconda3/lib/python3.8/site-packages/sklearn/linear_model/_stochastic_gradient.py:574: ConvergenceWarning: Maximum number of iteration reached before convergence. Consider increasing max_iter to improve the fit.\n",
      "  warnings.warn(\"Maximum number of iteration reached before \"\n"
     ]
    },
    {
     "name": "stdout",
     "output_type": "stream",
     "text": [
      "For values of alpha =  0.01 The log loss is: 0.47155855767014876\n"
     ]
    },
    {
     "name": "stderr",
     "output_type": "stream",
     "text": [
      "/Users/prateekbangwal/opt/anaconda3/lib/python3.8/site-packages/sklearn/linear_model/_stochastic_gradient.py:574: ConvergenceWarning: Maximum number of iteration reached before convergence. Consider increasing max_iter to improve the fit.\n",
      "  warnings.warn(\"Maximum number of iteration reached before \"\n",
      "/Users/prateekbangwal/opt/anaconda3/lib/python3.8/site-packages/sklearn/linear_model/_stochastic_gradient.py:574: ConvergenceWarning: Maximum number of iteration reached before convergence. Consider increasing max_iter to improve the fit.\n",
      "  warnings.warn(\"Maximum number of iteration reached before \"\n",
      "/Users/prateekbangwal/opt/anaconda3/lib/python3.8/site-packages/sklearn/linear_model/_stochastic_gradient.py:574: ConvergenceWarning: Maximum number of iteration reached before convergence. Consider increasing max_iter to improve the fit.\n",
      "  warnings.warn(\"Maximum number of iteration reached before \"\n",
      "/Users/prateekbangwal/opt/anaconda3/lib/python3.8/site-packages/sklearn/linear_model/_stochastic_gradient.py:574: ConvergenceWarning: Maximum number of iteration reached before convergence. Consider increasing max_iter to improve the fit.\n",
      "  warnings.warn(\"Maximum number of iteration reached before \"\n",
      "/Users/prateekbangwal/opt/anaconda3/lib/python3.8/site-packages/sklearn/linear_model/_stochastic_gradient.py:574: ConvergenceWarning: Maximum number of iteration reached before convergence. Consider increasing max_iter to improve the fit.\n",
      "  warnings.warn(\"Maximum number of iteration reached before \"\n",
      "/Users/prateekbangwal/opt/anaconda3/lib/python3.8/site-packages/sklearn/linear_model/_stochastic_gradient.py:574: ConvergenceWarning: Maximum number of iteration reached before convergence. Consider increasing max_iter to improve the fit.\n",
      "  warnings.warn(\"Maximum number of iteration reached before \"\n"
     ]
    },
    {
     "name": "stdout",
     "output_type": "stream",
     "text": [
      "For values of alpha =  0.1 The log loss is: 0.5148631753446768\n"
     ]
    },
    {
     "name": "stderr",
     "output_type": "stream",
     "text": [
      "/Users/prateekbangwal/opt/anaconda3/lib/python3.8/site-packages/sklearn/linear_model/_stochastic_gradient.py:574: ConvergenceWarning: Maximum number of iteration reached before convergence. Consider increasing max_iter to improve the fit.\n",
      "  warnings.warn(\"Maximum number of iteration reached before \"\n",
      "/Users/prateekbangwal/opt/anaconda3/lib/python3.8/site-packages/sklearn/linear_model/_stochastic_gradient.py:574: ConvergenceWarning: Maximum number of iteration reached before convergence. Consider increasing max_iter to improve the fit.\n",
      "  warnings.warn(\"Maximum number of iteration reached before \"\n",
      "/Users/prateekbangwal/opt/anaconda3/lib/python3.8/site-packages/sklearn/linear_model/_stochastic_gradient.py:574: ConvergenceWarning: Maximum number of iteration reached before convergence. Consider increasing max_iter to improve the fit.\n",
      "  warnings.warn(\"Maximum number of iteration reached before \"\n"
     ]
    },
    {
     "name": "stdout",
     "output_type": "stream",
     "text": [
      "For values of alpha =  1 The log loss is: 0.6047704562541754\n"
     ]
    },
    {
     "name": "stderr",
     "output_type": "stream",
     "text": [
      "/Users/prateekbangwal/opt/anaconda3/lib/python3.8/site-packages/sklearn/linear_model/_stochastic_gradient.py:574: ConvergenceWarning: Maximum number of iteration reached before convergence. Consider increasing max_iter to improve the fit.\n",
      "  warnings.warn(\"Maximum number of iteration reached before \"\n",
      "/Users/prateekbangwal/opt/anaconda3/lib/python3.8/site-packages/sklearn/linear_model/_stochastic_gradient.py:574: ConvergenceWarning: Maximum number of iteration reached before convergence. Consider increasing max_iter to improve the fit.\n",
      "  warnings.warn(\"Maximum number of iteration reached before \"\n"
     ]
    },
    {
     "name": "stdout",
     "output_type": "stream",
     "text": [
      "For values of alpha =  10 The log loss is: 0.6549410643071087\n"
     ]
    },
    {
     "data": {
      "image/png": "[encoded data removed]",
      "text/plain": [
       "<Figure size 432x288 with 1 Axes>"
      ]
     },
     "metadata": {
      "needs_background": "light"
     },
     "output_type": "display_data"
    },
    {
     "name": "stdout",
     "output_type": "stream",
     "text": [
      "For values of best alpha =  1e-05 The train log loss is: 0.469702203369642\n",
      "For values of best alpha =  1e-05 The test log loss is: 0.4704210736850604\n",
      "Total number of data points : 121287\n"
     ]
    },
    {
     "data": {
      "image/png": "[encoded data removed]",
      "text/plain": [
       "<Figure size 1440x288 with 6 Axes>"
      ]
     },
     "metadata": {
      "needs_background": "light"
     },
     "output_type": "display_data"
    }
   ],
   "source": [
    "alpha = [10 ** x for x in range(-5, 2)] # hyperparam for SGD classifier.\n",
    "\n",
    "# read more about SGDClassifier() at http://scikit-learn.org/stable/modules/generated/sklearn.linear_model.SGDClassifier.html\n",
    "# ------------------------------\n",
    "# default parameters\n",
    "# SGDClassifier(loss=’hinge’, penalty=’l2’, alpha=0.0001, l1_ratio=0.15, fit_intercept=True, max_iter=None, tol=None, \n",
    "# shuffle=True, verbose=0, epsilon=0.1, n_jobs=1, random_state=None, learning_rate=’optimal’, eta0=0.0, power_t=0.5, \n",
    "# class_weight=None, warm_start=False, average=False, n_iter=None)\n",
    "\n",
    "# some of methods\n",
    "# fit(X, y[, coef_init, intercept_init, …])\tFit linear model with Stochastic Gradient Descent.\n",
    "# predict(X)\tPredict class labels for samples in X.\n",
    "\n",
    "#-------------------------------\n",
    "# video link: \n",
    "#------------------------------\n",
    "\n",
    "\n",
    "log_error_array=[]\n",
    "for i in alpha:\n",
    "    clf = SGDClassifier(alpha=i, penalty='l1', loss='hinge', random_state=42)\n",
    "    clf.fit(X_train, y_train)\n",
    "    sig_clf = CalibratedClassifierCV(clf, method=\"sigmoid\")\n",
    "    sig_clf.fit(X_train, y_train)\n",
    "    predict_y = sig_clf.predict_proba(X_test)\n",
    "    log_error_array.append(log_loss(y_test, predict_y, labels=clf.classes_, eps=1e-15))\n",
    "    print('For values of alpha = ', i, \"The log loss is:\",log_loss(y_test, predict_y, labels=clf.classes_, eps=1e-15))\n",
    "\n",
    "fig, ax = plt.subplots()\n",
    "ax.plot(alpha, log_error_array,c='g')\n",
    "for i, txt in enumerate(np.round(log_error_array,3)):\n",
    "    ax.annotate((alpha[i],np.round(txt,3)), (alpha[i],log_error_array[i]))\n",
    "plt.grid()\n",
    "plt.title(\"Cross Validation Error for each alpha\")\n",
    "plt.xlabel(\"Alpha i's\")\n",
    "plt.ylabel(\"Error measure\")\n",
    "plt.show()\n",
    "\n",
    "\n",
    "print(\"Training on best parameter:\")\n",
    "best_alpha = np.argmin(log_error_array)\n",
    "clf = SGDClassifier(alpha=alpha[best_alpha], penalty='l1', loss='hinge', random_state=42)\n",
    "clf.fit(X_train, y_train)\n",
    "sig_clf = CalibratedClassifierCV(clf, method=\"sigmoid\")\n",
    "sig_clf.fit(X_train, y_train)\n",
    "\n",
    "predict_y = sig_clf.predict_proba(X_train)\n",
    "print('For values of best alpha = ', alpha[best_alpha], \"The train log loss is:\",log_loss(y_train, predict_y, labels=clf.classes_, eps=1e-15))\n",
    "predict_y = sig_clf.predict_proba(X_test)\n",
    "print('For values of best alpha = ', alpha[best_alpha], \"The test log loss is:\",log_loss(y_test, predict_y, labels=clf.classes_, eps=1e-15))\n",
    "predicted_y =np.argmax(predict_y,axis=1)\n",
    "print(\"Total number of data points :\", len(predicted_y))\n",
    "plot_confusion_matrix(y_test, predicted_y)"
   ]
  },
  {
   "cell_type": "markdown",
   "id": "5c5ce84e-40b0-4682-b72e-1cd70e2bee09",
   "metadata": {},
   "source": [
    "<h2> XGBOOST </h2>\n"
   ]
  },
  {
   "cell_type": "code",
   "execution_count": 12,
   "id": "d76b380d-2629-46c7-9951-c2eec5a7788b",
   "metadata": {},
   "outputs": [
    {
     "name": "stdout",
     "output_type": "stream",
     "text": [
      "[0]\ttrain-logloss:0.68490\tvalid-logloss:0.68489\n",
      "Multiple eval metrics have been passed: 'valid-logloss' will be used for early stopping.\n",
      "\n",
      "Will train until valid-logloss hasn't improved in 20 rounds.\n",
      "[10]\ttrain-logloss:0.61523\tvalid-logloss:0.61531\n",
      "[20]\ttrain-logloss:0.56458\tvalid-logloss:0.56478\n",
      "[30]\ttrain-logloss:0.52650\tvalid-logloss:0.52671\n",
      "[40]\ttrain-logloss:0.49728\tvalid-logloss:0.49751\n",
      "[50]\ttrain-logloss:0.47438\tvalid-logloss:0.47455\n",
      "[60]\ttrain-logloss:0.45591\tvalid-logloss:0.45605\n",
      "[70]\ttrain-logloss:0.44127\tvalid-logloss:0.44133\n",
      "[80]\ttrain-logloss:0.42939\tvalid-logloss:0.42949\n",
      "[90]\ttrain-logloss:0.42000\tvalid-logloss:0.42005\n",
      "[100]\ttrain-logloss:0.41210\tvalid-logloss:0.41217\n",
      "[110]\ttrain-logloss:0.40534\tvalid-logloss:0.40538\n",
      "[120]\ttrain-logloss:0.39967\tvalid-logloss:0.39969\n",
      "[130]\ttrain-logloss:0.39497\tvalid-logloss:0.39495\n",
      "[140]\ttrain-logloss:0.39132\tvalid-logloss:0.39132\n",
      "[150]\ttrain-logloss:0.38788\tvalid-logloss:0.38790\n",
      "[160]\ttrain-logloss:0.38489\tvalid-logloss:0.38493\n",
      "[170]\ttrain-logloss:0.38233\tvalid-logloss:0.38239\n",
      "[180]\ttrain-logloss:0.38000\tvalid-logloss:0.38004\n",
      "[190]\ttrain-logloss:0.37790\tvalid-logloss:0.37794\n",
      "[200]\ttrain-logloss:0.37596\tvalid-logloss:0.37604\n",
      "[210]\ttrain-logloss:0.37416\tvalid-logloss:0.37424\n",
      "[220]\ttrain-logloss:0.37244\tvalid-logloss:0.37257\n",
      "[230]\ttrain-logloss:0.37102\tvalid-logloss:0.37117\n",
      "[240]\ttrain-logloss:0.36968\tvalid-logloss:0.36985\n",
      "[250]\ttrain-logloss:0.36835\tvalid-logloss:0.36856\n",
      "[260]\ttrain-logloss:0.36681\tvalid-logloss:0.36710\n",
      "[270]\ttrain-logloss:0.36545\tvalid-logloss:0.36579\n",
      "[280]\ttrain-logloss:0.36419\tvalid-logloss:0.36462\n",
      "[290]\ttrain-logloss:0.36312\tvalid-logloss:0.36360\n",
      "[300]\ttrain-logloss:0.36199\tvalid-logloss:0.36254\n",
      "[310]\ttrain-logloss:0.36091\tvalid-logloss:0.36152\n",
      "[320]\ttrain-logloss:0.35985\tvalid-logloss:0.36052\n",
      "[330]\ttrain-logloss:0.35876\tvalid-logloss:0.35949\n",
      "[340]\ttrain-logloss:0.35784\tvalid-logloss:0.35865\n",
      "[350]\ttrain-logloss:0.35680\tvalid-logloss:0.35770\n",
      "[360]\ttrain-logloss:0.35585\tvalid-logloss:0.35682\n",
      "[370]\ttrain-logloss:0.35493\tvalid-logloss:0.35596\n",
      "[380]\ttrain-logloss:0.35416\tvalid-logloss:0.35527\n",
      "[390]\ttrain-logloss:0.35335\tvalid-logloss:0.35454\n",
      "[399]\ttrain-logloss:0.35263\tvalid-logloss:0.35386\n"
     ]
    },
    {
     "ename": "NameError",
     "evalue": "name 'clf' is not defined",
     "output_type": "error",
     "traceback": [
      "\u001b[0;31m---------------------------------------------------------------------------\u001b[0m",
      "\u001b[0;31mNameError\u001b[0m                                 Traceback (most recent call last)",
      "\u001b[0;32m<ipython-input-12-fcb03478e2bb>\u001b[0m in \u001b[0;36m<module>\u001b[0;34m\u001b[0m\n\u001b[1;32m     15\u001b[0m \u001b[0mxgdmat\u001b[0m \u001b[0;34m=\u001b[0m \u001b[0mxgb\u001b[0m\u001b[0;34m.\u001b[0m\u001b[0mDMatrix\u001b[0m\u001b[0;34m(\u001b[0m\u001b[0mX_train\u001b[0m\u001b[0;34m,\u001b[0m\u001b[0my_train\u001b[0m\u001b[0;34m)\u001b[0m\u001b[0;34m\u001b[0m\u001b[0;34m\u001b[0m\u001b[0m\n\u001b[1;32m     16\u001b[0m \u001b[0mpredict_y\u001b[0m \u001b[0;34m=\u001b[0m \u001b[0mbst\u001b[0m\u001b[0;34m.\u001b[0m\u001b[0mpredict\u001b[0m\u001b[0;34m(\u001b[0m\u001b[0md_test\u001b[0m\u001b[0;34m)\u001b[0m\u001b[0;34m\u001b[0m\u001b[0;34m\u001b[0m\u001b[0m\n\u001b[0;32m---> 17\u001b[0;31m \u001b[0mprint\u001b[0m\u001b[0;34m(\u001b[0m\u001b[0;34m\"The test log loss is:\"\u001b[0m\u001b[0;34m,\u001b[0m\u001b[0mlog_loss\u001b[0m\u001b[0;34m(\u001b[0m\u001b[0my_test\u001b[0m\u001b[0;34m,\u001b[0m \u001b[0mpredict_y\u001b[0m\u001b[0;34m,\u001b[0m \u001b[0mlabels\u001b[0m\u001b[0;34m=\u001b[0m\u001b[0mclf\u001b[0m\u001b[0;34m.\u001b[0m\u001b[0mclasses_\u001b[0m\u001b[0;34m,\u001b[0m \u001b[0meps\u001b[0m\u001b[0;34m=\u001b[0m\u001b[0;36m1e-15\u001b[0m\u001b[0;34m)\u001b[0m\u001b[0;34m)\u001b[0m\u001b[0;34m\u001b[0m\u001b[0;34m\u001b[0m\u001b[0m\n\u001b[0m",
      "\u001b[0;31mNameError\u001b[0m: name 'clf' is not defined"
     ]
    }
   ],
   "source": [
    "import xgboost as xgb\n",
    "params = {}\n",
    "params['objective'] = 'binary:logistic'\n",
    "params['eval_metric'] = 'logloss'\n",
    "params['eta'] = 0.02\n",
    "params['max_depth'] = 4\n",
    "\n",
    "d_train = xgb.DMatrix(X_train, label=y_train)\n",
    "d_test = xgb.DMatrix(X_test, label=y_test)\n",
    "\n",
    "watchlist = [(d_train, 'train'), (d_test, 'valid')]\n",
    "\n",
    "bst = xgb.train(params, d_train, 400, watchlist, early_stopping_rounds=20, verbose_eval=10)\n",
    "\n",
    "xgdmat = xgb.DMatrix(X_train,y_train)\n",
    "predict_y = bst.predict(d_test)\n"
   ]
  },
  {
   "cell_type": "code",
   "execution_count": null,
   "id": "f07074b4-ac8c-4264-aed9-3e6103972ab9",
   "metadata": {},
   "outputs": [],
   "source": []
  }
 ],
 "metadata": {
  "kernelspec": {
   "display_name": "Python 3",
   "language": "python",
   "name": "python3"
  },
  "language_info": {
   "codemirror_mode": {
    "name": "ipython",
    "version": 3
   },
   "file_extension": ".py",
   "mimetype": "text/x-python",
   "name": "python",
   "nbconvert_exporter": "python",
   "pygments_lexer": "ipython3",
   "version": "3.8.8"
  }
 },
 "nbformat": 4,
 "nbformat_minor": 5
}
